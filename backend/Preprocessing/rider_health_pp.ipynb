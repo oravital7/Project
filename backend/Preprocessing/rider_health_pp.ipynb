{
 "cells": [
  {
   "cell_type": "code",
   "execution_count": 47,
   "metadata": {},
   "outputs": [],
   "source": [
    "from pathlib import Path\n",
    "\n",
    "import pandas as pd\n",
    "import numpy as np"
   ]
  },
  {
   "cell_type": "code",
   "execution_count": 48,
   "metadata": {},
   "outputs": [],
   "source": [
    "INJURIES_FILE_PATH = Path(r\"..\\Data\\riderInjuries.csv\").resolve()\n",
    "ILLNESSES_FILE_NAME = Path(r\"..\\Data\\riderIllnesses.csv\").resolve()"
   ]
  },
  {
   "cell_type": "code",
   "execution_count": 49,
   "metadata": {},
   "outputs": [],
   "source": [
    "\"\"\"This module is responsible to prepare the rider injuries and rider illness data\"\"\"\n",
    "import pandas as pd\n",
    "from pathlib import Path\n",
    "\n",
    "def handle_missing_values(data: pd.DataFrame) -> pd.DataFrame:\n",
    "    \"\"\"\n",
    "    Handle missing values in the DataFrame.\n",
    "    \"\"\"\n",
    "    # Fill disrupt and score columns with 0\n",
    "    data['disrupt'] = data['disrupt'].fillna(0)\n",
    "    data['score'] = data['score'].fillna(0)\n",
    "    return data\n",
    "\n",
    "\n",
    "def prepare_data(data: pd.DataFrame) -> pd.DataFrame:\n",
    "    \"\"\"\n",
    "    Prepare the input data for modeling.\n",
    "    \"\"\"\n",
    "    # Remove empty columns\n",
    "    data.dropna(axis=1, how='all', inplace=True)\n",
    "    # chnege column 'disrupt' to int (i.e. \"yes\" to 1 and \"no\" to 0)\n",
    "    data['disrupt'] = data['disrupt'].map({'yes': 1, 'no': 0})\n",
    "    data['date'] = pd.to_datetime(data['date']).dt.date\n",
    "    # rename 'rider' column to 'cyclist_id'\n",
    "    data.rename(columns={'rider': 'cyclist_id'}, inplace=True)\n",
    "    # change 'cyclist_id' to int64\n",
    "    data['cyclist_id'] = data['cyclist_id'].astype('int64')\n",
    "    # sort the data by date and rider\n",
    "    data = data.sort_values(by=['cyclist_id', 'date']).reset_index(drop=True)\n",
    "    return data\n",
    "\n",
    "\n",
    "def aggregate_data(data: pd.DataFrame) -> pd.DataFrame:\n",
    "    \"\"\"\n",
    "    Aggregate the data by cyclist_id and date.\n",
    "    \"\"\"\n",
    "    # group by cyclist_id and date and sum the values\n",
    "    agg_data = data.groupby(['cyclist_id', 'date']).agg({\n",
    "        'score': 'sum',\n",
    "        'disrupt': 'max'\n",
    "    }).reset_index()\n",
    "    return agg_data\n",
    "\n",
    "\n",
    "def add_missing_days(health_data: pd.DataFrame, agg_workouts: pd.DataFrame) -> pd.DataFrame:\n",
    "    def add_missing_days_per_cyclist(rider: int) -> pd.DataFrame:\n",
    "        if rider not in agg_workouts['cyclist_id'].unique():\n",
    "            return pd.DataFrame()\n",
    "        rider_dates = agg_workouts[agg_workouts['cyclist_id'] == rider]['date']\n",
    "        date_range = pd.date_range(start=rider_dates.min(), end=rider_dates.max()).date\n",
    "        complete_df = pd.DataFrame({'date': date_range,\n",
    "                                    'cyclist_id': [rider] * len(date_range)})\n",
    "        merged_df = pd.merge(complete_df, health_data, on=['date', 'cyclist_id'], how='left')\n",
    "        return merged_df\n",
    "    \n",
    "    return pd.concat([add_missing_days_per_cyclist(cyclist) for cyclist in health_data['cyclist_id'].unique()]).reset_index(drop=True)"
   ]
  },
  {
   "cell_type": "code",
   "execution_count": 50,
   "metadata": {},
   "outputs": [],
   "source": [
    "injuries_data = pd.read_csv(INJURIES_FILE_PATH)\n",
    "illnesses_data = pd.read_csv(ILLNESSES_FILE_NAME)"
   ]
  },
  {
   "cell_type": "code",
   "execution_count": 51,
   "metadata": {},
   "outputs": [
    {
     "name": "stdout",
     "output_type": "stream",
     "text": [
      "Missing riders in injuries data: [2239, 5799, 5925, 6312, 22630]\n",
      "Missing riders in illnesses data: [6312]\n",
      "in injuries but not in agg: []\n",
      "in illnesses but not in agg: [2580.0]\n",
      "length of agg:  29\n"
     ]
    }
   ],
   "source": [
    "x = [653, 1054, 1116, 1304, 2239, 2434, 2460, 2581, 2671, 2748, 3666, 3982, 4533, 4865, 5393, 5428, 5799, 5832, 5925, 6163, 6312, 22629, 22630, 22631, 22632, 22633, 22634, 22635, 22636]\n",
    "\n",
    "y = injuries_data['rider'].unique()\n",
    "t = illnesses_data['rider'].unique()\n",
    "\n",
    "print(f\"Missing riders in injuries data: {[z for z in x if z not in y]}\")\n",
    "print(f\"Missing riders in illnesses data: {[z for z in x if z not in t]}\")\n",
    "\n",
    "print(f\"in injuries but not in agg: {[z for z in y if z not in x]}\")\n",
    "print(f\"in illnesses but not in agg: {[z for z in t if z not in x]}\")\n",
    "\n",
    "print(\"length of agg: \", len(x))"
   ]
  },
  {
   "cell_type": "code",
   "execution_count": 52,
   "metadata": {},
   "outputs": [],
   "source": [
    "injuries_data = prepare_data(injuries_data)\n",
    "illnesses_data = prepare_data(illnesses_data)"
   ]
  },
  {
   "cell_type": "code",
   "execution_count": 53,
   "metadata": {},
   "outputs": [],
   "source": [
    "agg_data = pd.read_csv(\"..\\Data\\Cleaned_Agg_Workouts_2023.csv\")"
   ]
  },
  {
   "cell_type": "code",
   "execution_count": 54,
   "metadata": {},
   "outputs": [],
   "source": [
    "injuries_data = aggregate_data(injuries_data)\n",
    "illnesses_data = aggregate_data(illnesses_data)"
   ]
  },
  {
   "cell_type": "code",
   "execution_count": 55,
   "metadata": {},
   "outputs": [],
   "source": [
    "injuries_data = add_missing_days(injuries_data, agg_data)\n",
    "illnesses_data = add_missing_days(illnesses_data, agg_data)"
   ]
  },
  {
   "cell_type": "code",
   "execution_count": 56,
   "metadata": {},
   "outputs": [],
   "source": [
    "injuries_data = handle_missing_values(injuries_data)\n",
    "illnesses_data = handle_missing_values(illnesses_data)"
   ]
  },
  {
   "cell_type": "code",
   "execution_count": 57,
   "metadata": {},
   "outputs": [
    {
     "data": {
      "text/html": [
       "<div>\n",
       "<style scoped>\n",
       "    .dataframe tbody tr th:only-of-type {\n",
       "        vertical-align: middle;\n",
       "    }\n",
       "\n",
       "    .dataframe tbody tr th {\n",
       "        vertical-align: top;\n",
       "    }\n",
       "\n",
       "    .dataframe thead th {\n",
       "        text-align: right;\n",
       "    }\n",
       "</style>\n",
       "<table border=\"1\" class=\"dataframe\">\n",
       "  <thead>\n",
       "    <tr style=\"text-align: right;\">\n",
       "      <th></th>\n",
       "      <th>date</th>\n",
       "      <th>cyclist_id</th>\n",
       "      <th>score</th>\n",
       "      <th>disrupt</th>\n",
       "    </tr>\n",
       "  </thead>\n",
       "  <tbody>\n",
       "    <tr>\n",
       "      <th>0</th>\n",
       "      <td>2023-01-01</td>\n",
       "      <td>653</td>\n",
       "      <td>0.0</td>\n",
       "      <td>0.0</td>\n",
       "    </tr>\n",
       "    <tr>\n",
       "      <th>1</th>\n",
       "      <td>2023-01-02</td>\n",
       "      <td>653</td>\n",
       "      <td>0.0</td>\n",
       "      <td>0.0</td>\n",
       "    </tr>\n",
       "    <tr>\n",
       "      <th>2</th>\n",
       "      <td>2023-01-03</td>\n",
       "      <td>653</td>\n",
       "      <td>0.0</td>\n",
       "      <td>0.0</td>\n",
       "    </tr>\n",
       "    <tr>\n",
       "      <th>3</th>\n",
       "      <td>2023-01-04</td>\n",
       "      <td>653</td>\n",
       "      <td>0.0</td>\n",
       "      <td>0.0</td>\n",
       "    </tr>\n",
       "    <tr>\n",
       "      <th>4</th>\n",
       "      <td>2023-01-05</td>\n",
       "      <td>653</td>\n",
       "      <td>0.0</td>\n",
       "      <td>0.0</td>\n",
       "    </tr>\n",
       "    <tr>\n",
       "      <th>...</th>\n",
       "      <td>...</td>\n",
       "      <td>...</td>\n",
       "      <td>...</td>\n",
       "      <td>...</td>\n",
       "    </tr>\n",
       "    <tr>\n",
       "      <th>8372</th>\n",
       "      <td>2023-12-17</td>\n",
       "      <td>22636</td>\n",
       "      <td>0.0</td>\n",
       "      <td>0.0</td>\n",
       "    </tr>\n",
       "    <tr>\n",
       "      <th>8373</th>\n",
       "      <td>2023-12-18</td>\n",
       "      <td>22636</td>\n",
       "      <td>0.0</td>\n",
       "      <td>0.0</td>\n",
       "    </tr>\n",
       "    <tr>\n",
       "      <th>8374</th>\n",
       "      <td>2023-12-19</td>\n",
       "      <td>22636</td>\n",
       "      <td>0.0</td>\n",
       "      <td>0.0</td>\n",
       "    </tr>\n",
       "    <tr>\n",
       "      <th>8375</th>\n",
       "      <td>2023-12-20</td>\n",
       "      <td>22636</td>\n",
       "      <td>0.0</td>\n",
       "      <td>0.0</td>\n",
       "    </tr>\n",
       "    <tr>\n",
       "      <th>8376</th>\n",
       "      <td>2023-12-21</td>\n",
       "      <td>22636</td>\n",
       "      <td>0.0</td>\n",
       "      <td>0.0</td>\n",
       "    </tr>\n",
       "  </tbody>\n",
       "</table>\n",
       "<p>8377 rows × 4 columns</p>\n",
       "</div>"
      ],
      "text/plain": [
       "            date  cyclist_id  score  disrupt\n",
       "0     2023-01-01         653    0.0      0.0\n",
       "1     2023-01-02         653    0.0      0.0\n",
       "2     2023-01-03         653    0.0      0.0\n",
       "3     2023-01-04         653    0.0      0.0\n",
       "4     2023-01-05         653    0.0      0.0\n",
       "...          ...         ...    ...      ...\n",
       "8372  2023-12-17       22636    0.0      0.0\n",
       "8373  2023-12-18       22636    0.0      0.0\n",
       "8374  2023-12-19       22636    0.0      0.0\n",
       "8375  2023-12-20       22636    0.0      0.0\n",
       "8376  2023-12-21       22636    0.0      0.0\n",
       "\n",
       "[8377 rows x 4 columns]"
      ]
     },
     "execution_count": 57,
     "metadata": {},
     "output_type": "execute_result"
    }
   ],
   "source": [
    "injuries_data"
   ]
  },
  {
   "cell_type": "code",
   "execution_count": null,
   "metadata": {},
   "outputs": [],
   "source": []
  }
 ],
 "metadata": {
  "kernelspec": {
   "display_name": ".venv",
   "language": "python",
   "name": "python3"
  },
  "language_info": {
   "codemirror_mode": {
    "name": "ipython",
    "version": 3
   },
   "file_extension": ".py",
   "mimetype": "text/x-python",
   "name": "python",
   "nbconvert_exporter": "python",
   "pygments_lexer": "ipython3",
   "version": "3.11.1"
  }
 },
 "nbformat": 4,
 "nbformat_minor": 2
}
